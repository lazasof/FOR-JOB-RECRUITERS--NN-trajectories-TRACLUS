{
  "nbformat": 4,
  "nbformat_minor": 0,
  "metadata": {
    "colab": {
      "provenance": [],
      "machine_shape": "hm"
    },
    "kernelspec": {
      "name": "python3",
      "display_name": "Python 3"
    },
    "language_info": {
      "name": "python"
    },
    "gpuClass": "standard"
  },
  "cells": [
    {
      "cell_type": "code",
      "source": [
        "import pandas as pd\n",
        "import numpy as np\n",
        "#header='infer', index_col=None\n",
        "path=\"/content/drive/MyDrive/newdata_timeseries_21_1_2023.csv\"\n",
        "df1= pd.read_csv(path,header=0,names=['tlon','tlat','Nlon','Nlat','tags'],index_col=0)\n",
        "#Input: (1) A set of line segments D = {L1, · · · , Lnumln },####ALL CHARACTERISTIC LINE SEGMENTS\\\n",
        "df1['boolean_column'] = np.where((df1['tlon'] ==df1['Nlon']) & (df1['tlat'] ==df1['Nlat']   ) , True, False)\n",
        "df1.drop(df1[df1['boolean_column'] == True].index, inplace=True)\n",
        "df1=df1.drop(['boolean_column'], axis=1)\n",
        "df1 = df1.reset_index(drop=True)\n",
        "df1 = df1.reset_index()\n",
        "#df1= df[df['boolean_column']== True]\n",
        "#df1\n",
        "df1 = df1.rename(columns={'index': 'line'})\n",
        "#df1.drop(df1.tail(2).index,inplace=True)\n",
        "df1['clusterId']=np.nan\n",
        "df1['noise']=np.nan\n",
        "print(df1)\n",
        "\n",
        "import pandas as pd\n",
        "import numpy as np\n",
        "path='/content/drive/MyDrive/neigborsmap_all_dist24_01_2023.csv'\n",
        "#names=['tlon','tlat','Nlon','Nlat','tags']\n",
        "distances= pd.read_csv(path,header=None,names=['line','tags','neigborindex','distance'])\n",
        "distances['clusterId']=np.nan\n",
        "distances['noise']=np.nan\n",
        "distances\n",
        "\n",
        "\n",
        "df_neigbors=distances[distances['distance'] < 66037]\n",
        "df_neigbors\n",
        "\n",
        "\n",
        "df_ne=df_neigbors.groupby(['line'])['line'].count()\n",
        "df_ne=df_ne.to_frame()\n",
        "df_ne=df_ne.rename(columns={ df_ne.columns[0]: \"counts\" })\n",
        "df_ne=df_ne.reset_index(drop=False)\n",
        "df_ne1=df_neigbors.groupby(['neigborindex'])['neigborindex'].count()\n",
        "df_ne1=df_ne1.to_frame()\n",
        "df_ne1=df_ne1.rename(columns={ df_ne.columns[0]: \"neigborcounts\" })\n",
        "#df_ne1=df_ne1.reset_index(drop=False)\n",
        "# merge the two DataFrames on column 'A' and 'B'\n",
        "merged_df = pd.merge(df_ne, df_ne1,left_on=['line'], right_on=df_ne1.index, how='outer')\n",
        "\n",
        "\n",
        "# merge the two DataFrames on column 'A' and 'B'\n",
        "merged_df1 = pd.merge(df1, merged_df, left_on=['line'], right_on=['line'], how='outer')\n",
        "# remove duplicate rows\n",
        "merged_df1 = merged_df1.drop_duplicates()\n",
        "df=merged_df1\n",
        "\n",
        "df=df.fillna(0)\n",
        "df['clusterId']=np.nan\n",
        "df['noise']=np.nan\n",
        "df['total']=df['counts']+ df['neigborindex']\n",
        "print('mean neigbors:', df.total.describe())\n",
        "distances"
      ],
      "metadata": {
        "colab": {
          "base_uri": "https://localhost:8080/",
          "height": 1000
        },
        "id": "pwhVg1um9skL",
        "outputId": "f2b12b08-7a26-4def-f815-c3a26d1aeddc"
      },
      "execution_count": null,
      "outputs": [
        {
          "output_type": "stream",
          "name": "stdout",
          "text": [
            "        line           tlon          tlat           Nlon          Nlat   tags  \\\n",
            "0          0  349769.161257  4.148271e+06  339865.959082  4.152734e+06    0.0   \n",
            "1          1  339865.959082  4.152734e+06  337501.043594  4.154564e+06    0.0   \n",
            "2          2  337501.043594  4.154564e+06  337120.849949  4.156004e+06    0.0   \n",
            "3          3  337120.849949  4.156004e+06  336177.869837  4.155345e+06    0.0   \n",
            "4          4  336177.869837  4.155345e+06  329353.708674  4.150763e+06    0.0   \n",
            "...      ...            ...           ...            ...           ...    ...   \n",
            "12203  12203  311876.724101  4.165208e+06  319808.727702  4.150336e+06  838.0   \n",
            "12204  12204  319808.727702  4.150336e+06  319794.487192  4.147384e+06  838.0   \n",
            "12205  12205  319794.487192  4.147384e+06  318963.014609  4.145493e+06  838.0   \n",
            "12206  12206  318963.014609  4.145493e+06  318389.705915  4.145186e+06  838.0   \n",
            "12207  12207  318389.705915  4.145186e+06  318069.840146  4.145537e+06  838.0   \n",
            "\n",
            "       clusterId  noise  \n",
            "0            NaN    NaN  \n",
            "1            NaN    NaN  \n",
            "2            NaN    NaN  \n",
            "3            NaN    NaN  \n",
            "4            NaN    NaN  \n",
            "...          ...    ...  \n",
            "12203        NaN    NaN  \n",
            "12204        NaN    NaN  \n",
            "12205        NaN    NaN  \n",
            "12206        NaN    NaN  \n",
            "12207        NaN    NaN  \n",
            "\n",
            "[12208 rows x 8 columns]\n",
            "mean neigbors: count    12208.000000\n",
            "mean      3657.835845\n",
            "std       1961.286535\n",
            "min         10.000000\n",
            "25%       1641.000000\n",
            "50%       4235.000000\n",
            "75%       5315.000000\n",
            "max       7181.000000\n",
            "Name: total, dtype: float64\n"
          ]
        },
        {
          "output_type": "execute_result",
          "data": {
            "text/plain": [
              "           line   tags  neigborindex      distance  clusterId  noise\n",
              "0             0    0.0             1   4299.900135        NaN    NaN\n",
              "1             0    0.0             2   6541.137348        NaN    NaN\n",
              "2             0    0.0             3   6962.484470        NaN    NaN\n",
              "3             0    0.0             4  21221.701839        NaN    NaN\n",
              "4             0    0.0             5  30317.518730        NaN    NaN\n",
              "...         ...    ...           ...           ...        ...    ...\n",
              "74511523  12204  838.0         12206   3959.320393        NaN    NaN\n",
              "74511524  12204  838.0         12207   3902.397533        NaN    NaN\n",
              "74511525  12205  838.0         12206   1314.372626        NaN    NaN\n",
              "74511526  12205  838.0         12207   1488.806602        NaN    NaN\n",
              "74511527  12206  838.0         12207   1037.465904        NaN    NaN\n",
              "\n",
              "[74511528 rows x 6 columns]"
            ],
            "text/html": [
              "\n",
              "  <div id=\"df-7bb5e26f-0a73-4b14-ab92-8ec559d9744b\">\n",
              "    <div class=\"colab-df-container\">\n",
              "      <div>\n",
              "<style scoped>\n",
              "    .dataframe tbody tr th:only-of-type {\n",
              "        vertical-align: middle;\n",
              "    }\n",
              "\n",
              "    .dataframe tbody tr th {\n",
              "        vertical-align: top;\n",
              "    }\n",
              "\n",
              "    .dataframe thead th {\n",
              "        text-align: right;\n",
              "    }\n",
              "</style>\n",
              "<table border=\"1\" class=\"dataframe\">\n",
              "  <thead>\n",
              "    <tr style=\"text-align: right;\">\n",
              "      <th></th>\n",
              "      <th>line</th>\n",
              "      <th>tags</th>\n",
              "      <th>neigborindex</th>\n",
              "      <th>distance</th>\n",
              "      <th>clusterId</th>\n",
              "      <th>noise</th>\n",
              "    </tr>\n",
              "  </thead>\n",
              "  <tbody>\n",
              "    <tr>\n",
              "      <th>0</th>\n",
              "      <td>0</td>\n",
              "      <td>0.0</td>\n",
              "      <td>1</td>\n",
              "      <td>4299.900135</td>\n",
              "      <td>NaN</td>\n",
              "      <td>NaN</td>\n",
              "    </tr>\n",
              "    <tr>\n",
              "      <th>1</th>\n",
              "      <td>0</td>\n",
              "      <td>0.0</td>\n",
              "      <td>2</td>\n",
              "      <td>6541.137348</td>\n",
              "      <td>NaN</td>\n",
              "      <td>NaN</td>\n",
              "    </tr>\n",
              "    <tr>\n",
              "      <th>2</th>\n",
              "      <td>0</td>\n",
              "      <td>0.0</td>\n",
              "      <td>3</td>\n",
              "      <td>6962.484470</td>\n",
              "      <td>NaN</td>\n",
              "      <td>NaN</td>\n",
              "    </tr>\n",
              "    <tr>\n",
              "      <th>3</th>\n",
              "      <td>0</td>\n",
              "      <td>0.0</td>\n",
              "      <td>4</td>\n",
              "      <td>21221.701839</td>\n",
              "      <td>NaN</td>\n",
              "      <td>NaN</td>\n",
              "    </tr>\n",
              "    <tr>\n",
              "      <th>4</th>\n",
              "      <td>0</td>\n",
              "      <td>0.0</td>\n",
              "      <td>5</td>\n",
              "      <td>30317.518730</td>\n",
              "      <td>NaN</td>\n",
              "      <td>NaN</td>\n",
              "    </tr>\n",
              "    <tr>\n",
              "      <th>...</th>\n",
              "      <td>...</td>\n",
              "      <td>...</td>\n",
              "      <td>...</td>\n",
              "      <td>...</td>\n",
              "      <td>...</td>\n",
              "      <td>...</td>\n",
              "    </tr>\n",
              "    <tr>\n",
              "      <th>74511523</th>\n",
              "      <td>12204</td>\n",
              "      <td>838.0</td>\n",
              "      <td>12206</td>\n",
              "      <td>3959.320393</td>\n",
              "      <td>NaN</td>\n",
              "      <td>NaN</td>\n",
              "    </tr>\n",
              "    <tr>\n",
              "      <th>74511524</th>\n",
              "      <td>12204</td>\n",
              "      <td>838.0</td>\n",
              "      <td>12207</td>\n",
              "      <td>3902.397533</td>\n",
              "      <td>NaN</td>\n",
              "      <td>NaN</td>\n",
              "    </tr>\n",
              "    <tr>\n",
              "      <th>74511525</th>\n",
              "      <td>12205</td>\n",
              "      <td>838.0</td>\n",
              "      <td>12206</td>\n",
              "      <td>1314.372626</td>\n",
              "      <td>NaN</td>\n",
              "      <td>NaN</td>\n",
              "    </tr>\n",
              "    <tr>\n",
              "      <th>74511526</th>\n",
              "      <td>12205</td>\n",
              "      <td>838.0</td>\n",
              "      <td>12207</td>\n",
              "      <td>1488.806602</td>\n",
              "      <td>NaN</td>\n",
              "      <td>NaN</td>\n",
              "    </tr>\n",
              "    <tr>\n",
              "      <th>74511527</th>\n",
              "      <td>12206</td>\n",
              "      <td>838.0</td>\n",
              "      <td>12207</td>\n",
              "      <td>1037.465904</td>\n",
              "      <td>NaN</td>\n",
              "      <td>NaN</td>\n",
              "    </tr>\n",
              "  </tbody>\n",
              "</table>\n",
              "<p>74511528 rows × 6 columns</p>\n",
              "</div>\n",
              "      <button class=\"colab-df-convert\" onclick=\"convertToInteractive('df-7bb5e26f-0a73-4b14-ab92-8ec559d9744b')\"\n",
              "              title=\"Convert this dataframe to an interactive table.\"\n",
              "              style=\"display:none;\">\n",
              "        \n",
              "  <svg xmlns=\"http://www.w3.org/2000/svg\" height=\"24px\"viewBox=\"0 0 24 24\"\n",
              "       width=\"24px\">\n",
              "    <path d=\"M0 0h24v24H0V0z\" fill=\"none\"/>\n",
              "    <path d=\"M18.56 5.44l.94 2.06.94-2.06 2.06-.94-2.06-.94-.94-2.06-.94 2.06-2.06.94zm-11 1L8.5 8.5l.94-2.06 2.06-.94-2.06-.94L8.5 2.5l-.94 2.06-2.06.94zm10 10l.94 2.06.94-2.06 2.06-.94-2.06-.94-.94-2.06-.94 2.06-2.06.94z\"/><path d=\"M17.41 7.96l-1.37-1.37c-.4-.4-.92-.59-1.43-.59-.52 0-1.04.2-1.43.59L10.3 9.45l-7.72 7.72c-.78.78-.78 2.05 0 2.83L4 21.41c.39.39.9.59 1.41.59.51 0 1.02-.2 1.41-.59l7.78-7.78 2.81-2.81c.8-.78.8-2.07 0-2.86zM5.41 20L4 18.59l7.72-7.72 1.47 1.35L5.41 20z\"/>\n",
              "  </svg>\n",
              "      </button>\n",
              "      \n",
              "  <style>\n",
              "    .colab-df-container {\n",
              "      display:flex;\n",
              "      flex-wrap:wrap;\n",
              "      gap: 12px;\n",
              "    }\n",
              "\n",
              "    .colab-df-convert {\n",
              "      background-color: #E8F0FE;\n",
              "      border: none;\n",
              "      border-radius: 50%;\n",
              "      cursor: pointer;\n",
              "      display: none;\n",
              "      fill: #1967D2;\n",
              "      height: 32px;\n",
              "      padding: 0 0 0 0;\n",
              "      width: 32px;\n",
              "    }\n",
              "\n",
              "    .colab-df-convert:hover {\n",
              "      background-color: #E2EBFA;\n",
              "      box-shadow: 0px 1px 2px rgba(60, 64, 67, 0.3), 0px 1px 3px 1px rgba(60, 64, 67, 0.15);\n",
              "      fill: #174EA6;\n",
              "    }\n",
              "\n",
              "    [theme=dark] .colab-df-convert {\n",
              "      background-color: #3B4455;\n",
              "      fill: #D2E3FC;\n",
              "    }\n",
              "\n",
              "    [theme=dark] .colab-df-convert:hover {\n",
              "      background-color: #434B5C;\n",
              "      box-shadow: 0px 1px 3px 1px rgba(0, 0, 0, 0.15);\n",
              "      filter: drop-shadow(0px 1px 2px rgba(0, 0, 0, 0.3));\n",
              "      fill: #FFFFFF;\n",
              "    }\n",
              "  </style>\n",
              "\n",
              "      <script>\n",
              "        const buttonEl =\n",
              "          document.querySelector('#df-7bb5e26f-0a73-4b14-ab92-8ec559d9744b button.colab-df-convert');\n",
              "        buttonEl.style.display =\n",
              "          google.colab.kernel.accessAllowed ? 'block' : 'none';\n",
              "\n",
              "        async function convertToInteractive(key) {\n",
              "          const element = document.querySelector('#df-7bb5e26f-0a73-4b14-ab92-8ec559d9744b');\n",
              "          const dataTable =\n",
              "            await google.colab.kernel.invokeFunction('convertToInteractive',\n",
              "                                                     [key], {});\n",
              "          if (!dataTable) return;\n",
              "\n",
              "          const docLinkHtml = 'Like what you see? Visit the ' +\n",
              "            '<a target=\"_blank\" href=https://colab.research.google.com/notebooks/data_table.ipynb>data table notebook</a>'\n",
              "            + ' to learn more about interactive tables.';\n",
              "          element.innerHTML = '';\n",
              "          dataTable['output_type'] = 'display_data';\n",
              "          await google.colab.output.renderOutput(dataTable, element);\n",
              "          const docLink = document.createElement('div');\n",
              "          docLink.innerHTML = docLinkHtml;\n",
              "          element.appendChild(docLink);\n",
              "        }\n",
              "      </script>\n",
              "    </div>\n",
              "  </div>\n",
              "  "
            ]
          },
          "metadata": {},
          "execution_count": 4
        }
      ]
    },
    {
      "cell_type": "code",
      "source": [],
      "metadata": {
        "id": "74xl_wtQQoKC"
      },
      "execution_count": null,
      "outputs": []
    },
    {
      "cell_type": "code",
      "source": [
        "from google.colab import files\n",
        "df.to_csv('dfdist66037minlns4573.csv')  "
      ],
      "metadata": {
        "id": "ww8PpIZLVBmL"
      },
      "execution_count": null,
      "outputs": []
    },
    {
      "cell_type": "code",
      "source": [
        "df.clusterId.describe()"
      ],
      "metadata": {
        "id": "ptXQMbpG9sZT"
      },
      "execution_count": null,
      "outputs": []
    },
    {
      "cell_type": "code",
      "source": [
        "df.groupby('clusterId').size()"
      ],
      "metadata": {
        "id": "irlu82YvSfTt",
        "colab": {
          "base_uri": "https://localhost:8080/"
        },
        "outputId": "aad1f533-0a96-4edb-9e79-2ddcadee6d1a"
      },
      "execution_count": null,
      "outputs": [
        {
          "output_type": "execute_result",
          "data": {
            "text/plain": [
              "clusterId\n",
              "0.0      37\n",
              "1.0    2476\n",
              "2.0     151\n",
              "3.0    2728\n",
              "4.0    5025\n",
              "dtype: int64"
            ]
          },
          "metadata": {},
          "execution_count": 3
        }
      ]
    },
    {
      "cell_type": "code",
      "source": [
        "df.groupby('clusterId')['tags'].nunique()"
      ],
      "metadata": {
        "colab": {
          "base_uri": "https://localhost:8080/"
        },
        "id": "5ygDh2gCGQ5_",
        "outputId": "5c9fa0d2-4a66-4bca-c10a-a9613e752dfe"
      },
      "execution_count": null,
      "outputs": [
        {
          "output_type": "execute_result",
          "data": {
            "text/plain": [
              "clusterId\n",
              "0.0     29\n",
              "1.0    392\n",
              "2.0     46\n",
              "3.0    230\n",
              "4.0    434\n",
              "Name: tags, dtype: int64"
            ]
          },
          "metadata": {},
          "execution_count": 4
        }
      ]
    },
    {
      "cell_type": "code",
      "source": [
        "from google.colab import files\n",
        "df_neigbors.to_csv('garbdistancesmapdist66037minlns4573.csv')  "
      ],
      "metadata": {
        "id": "RVBbQilRSiNX"
      },
      "execution_count": null,
      "outputs": []
    },
    {
      "cell_type": "code",
      "source": [
        "import pandas as pd\n",
        "path='/content/garbdistancesmapdist66037minlns4573.csv'\n",
        "#names=['tlon','tlat','Nlon','Nlat','tags']\n",
        "df_neigbors= pd.read_csv(path,header=0,index_col=0)\n",
        "df_neigbors=df_neigbors.reset_index(drop=True)\n",
        "df_neigbors_full = pd.merge(distances, df_neigbors, left_on=['line', 'neigborindex'], right_on=['line', 'neigborindex'], how='outer')\n",
        "df_neigbors_full = df_neigbors_full.drop_duplicates(subset=['line', 'neigborindex'], keep='first')\n",
        "df_neigbors_full = df_neigbors_full.drop(df_neigbors_full.filter(regex='_x').columns, axis=1)\n",
        "df_neigbors_full = df_neigbors_full.rename(columns=lambda x: x.rstrip('_y'))\n",
        "df_neigbors=df_neigbors_full\n",
        "print(df_neigbors)\n",
        "from google.colab import files\n",
        "df_neigbors_full.to_csv('distances_map_dist_66037_minlns_3660.csv')  \n",
        "\n"
      ],
      "metadata": {
        "id": "sT9KyuMFSnzQ"
      },
      "execution_count": null,
      "outputs": []
    },
    {
      "cell_type": "code",
      "source": [
        "import pandas as pd\n",
        "path='/content/distances_map_dist_66037_minlns_4573.csv'\n",
        "#names=['tlon','tlat','Nlon','Nlat','tags']\n",
        "df_neigbors_full= pd.read_csv(path,header=0,index_col=0)\n",
        "df_neigbors_full=df_neigbors_full.reset_index(drop=True)\n",
        "df_neigbors_full"
      ],
      "metadata": {
        "id": "RUgKgXnAS2HX"
      },
      "execution_count": null,
      "outputs": []
    },
    {
      "cell_type": "code",
      "source": [
        "import numpy as np\n",
        "\n",
        "# Checking unique values in the clusterId column of distances DataFrame\n",
        "#print(df_neigbors_full.clusterId.unique())\n",
        "# Iterating over rows in df_neigbors DataFrame\n",
        "for i in range(len(df_neigbors_full)):\n",
        "    # Storing the lineid and neigborindex of current row\n",
        "    lineid=df_neigbors_full.line[i]\n",
        "    neigborindex=df_neigbors_full.neigborindex[i]\n",
        "    if pd.isna(df1.clusterId[neigborindex]) and pd.notna(df_neigbors_full.clusterId[i]):\n",
        "      # Updating the clusterId value in df DataFrame\n",
        "      df1.loc[neigborindex, 'clusterId'] = df_neigbors_full.clusterId[i]\n",
        "    # Checking if the clusterId value in df DataFrame is NaN and the clusterId value in df_neigbors DataFrame is not NaN\n",
        "    if pd.isna(df1.clusterId[lineid]) and pd.notna(df_neigbors_full.clusterId[i]):\n",
        "        # Updating the clusterId value in df DataFrame\n",
        "        df1.loc[lineid, 'clusterId'] = df_neigbors_full.clusterId[i]\n",
        "    else:\n",
        "        pass\n",
        "#df1[['clusterId']] = df1[['clusterId']].astype(int)\n",
        "print(df1)\n",
        "\n",
        "df = df1[df1['clusterId'].notna()]\n",
        "df[['clusterId']] = df[['clusterId']].astype(int)\n",
        "print(df)\n",
        "\n",
        "from google.colab import files\n",
        "df1.to_csv('all_lines_clustered_dist66037_minlns4573.csv')  "
      ],
      "metadata": {
        "id": "3lFacE85S6cJ"
      },
      "execution_count": null,
      "outputs": []
    },
    {
      "cell_type": "code",
      "source": [
        "import matplotlib.pyplot as plt\n",
        "import matplotlib.cm as cm\n",
        "\n",
        "df=df.dropna(subset=['clusterId'])\n",
        "df[['clusterId']] = df[['clusterId']].astype(int)\n",
        "\n",
        "unique_clusters = df['clusterId'].unique()\n",
        "colors = cm.get_cmap('rainbow')((unique_clusters-min(unique_clusters))/(max(unique_clusters)-min(unique_clusters)))\n",
        "# Get the unique values of the 'cluster_id' column\n",
        "#df['clusterId'].fillna(-1, inplace=True)\n",
        "df.dropna()\n",
        "cluster_colors = {cluster: color for cluster, color in zip(unique_clusters, colors)}\n",
        "df['color'] = df['clusterId'].map(cluster_colors)\n",
        "# Map the unique values to a colormap\n",
        "# Iterate over the DataFrame and plot each line segment with the corresponding color\n",
        "for index, row in df.iterrows():\n",
        "    plt.plot([row['tlon'],row['Nlon']],[row['tlat'],row['Nlat']], marker='o', color=colors[row['clusterId']-1])"
      ],
      "metadata": {
        "id": "7583mAKLTeHe",
        "colab": {
          "base_uri": "https://localhost:8080/",
          "height": 496
        },
        "outputId": "9f4dc9a1-a4b5-4140-9327-c263ccfb9ce1"
      },
      "execution_count": null,
      "outputs": [
        {
          "output_type": "stream",
          "name": "stderr",
          "text": [
            "/usr/local/lib/python3.8/dist-packages/pandas/core/frame.py:3641: SettingWithCopyWarning: \n",
            "A value is trying to be set on a copy of a slice from a DataFrame.\n",
            "Try using .loc[row_indexer,col_indexer] = value instead\n",
            "\n",
            "See the caveats in the documentation: https://pandas.pydata.org/pandas-docs/stable/user_guide/indexing.html#returning-a-view-versus-a-copy\n",
            "  self[k1] = value[k2]\n",
            "<ipython-input-5-ef3465cd0dc5>:13: SettingWithCopyWarning: \n",
            "A value is trying to be set on a copy of a slice from a DataFrame.\n",
            "Try using .loc[row_indexer,col_indexer] = value instead\n",
            "\n",
            "See the caveats in the documentation: https://pandas.pydata.org/pandas-docs/stable/user_guide/indexing.html#returning-a-view-versus-a-copy\n",
            "  df['color'] = df['clusterId'].map(cluster_colors)\n"
          ]
        },
        {
          "output_type": "display_data",
          "data": {
            "text/plain": [
              "<Figure size 432x288 with 1 Axes>"
            ],
            "image/png": "[encoded data removed]"
          },
          "metadata": {
            "needs_background": "light"
          }
        }
      ]
    },
    {
      "cell_type": "code",
      "source": [
        "import matplotlib.pyplot as plt\n",
        "import matplotlib.cm as cm\n",
        "df=df.dropna(subset=['clusterId'])\n",
        "df['clusterId'].replace(0 ,np.nan ,inplace=True)\n",
        "df['clusterId'].replace(1, 0 ,inplace=True)\n",
        "df['clusterId'].replace(2 ,np.nan ,inplace=True)\n",
        "df['clusterId'].replace(3 ,1 ,inplace=True)\n",
        "df['clusterId'].replace(4 ,2 ,inplace=True)\n",
        "#df['clusterId'].replace(5,3,inplace=True)\n",
        "\n",
        "\n",
        "df=df.dropna(subset=['clusterId'])\n",
        "df[['clusterId']] = df[['clusterId']].astype(int)\n",
        "\n",
        "unique_clusters = df['clusterId'].unique()\n",
        "colors = cm.get_cmap('rainbow')((unique_clusters-min(unique_clusters))/(max(unique_clusters)-min(unique_clusters)))\n",
        "# Get the unique values of the 'cluster_id' column\n",
        "#df['clusterId'].fillna(-1, inplace=True)\n",
        "df.dropna()\n",
        "cluster_colors = {cluster: color for cluster, color in zip(unique_clusters, colors)}\n",
        "df['color'] = df['clusterId'].map(cluster_colors)\n",
        "# Map the unique values to a colormap\n",
        "# Iterate over the DataFrame and plot each line segment with the corresponding color\n",
        "for index, row in df.iterrows():\n",
        "    plt.plot([row['tlon'],row['Nlon']],[row['tlat'],row['Nlat']], marker='o', color=colors[row['clusterId']-1])"
      ],
      "metadata": {
        "colab": {
          "base_uri": "https://localhost:8080/",
          "height": 276
        },
        "id": "tIF3O91fKj0j",
        "outputId": "a40eccf6-4596-42b2-8e92-4b5d67bfede5"
      },
      "execution_count": null,
      "outputs": [
        {
          "output_type": "display_data",
          "data": {
            "text/plain": [
              "<Figure size 432x288 with 1 Axes>"
            ],
            "image/png": "[encoded data removed]"
          },
          "metadata": {
            "needs_background": "light"
          }
        }
      ]
    },
    {
      "cell_type": "code",
      "source": [],
      "metadata": {
        "id": "vDKmG6zb5Rtw"
      },
      "execution_count": null,
      "outputs": []
    }
  ]
}